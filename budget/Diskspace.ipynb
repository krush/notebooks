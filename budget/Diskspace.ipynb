{
 "cells": [
  {
   "cell_type": "code",
   "execution_count": 10,
   "metadata": {
    "collapsed": false
   },
   "outputs": [
    {
     "name": "stdout",
     "output_type": "stream",
     "text": [
      "Directory E:\\Tools\\kotlin-jupyter used 21.39 MB \u001b[32m\"\"\"\n",
      "E:\\Tools\\kotlin-jupyter\\.git\t\t\t718.27 KB\n",
      "E:\\Tools\\kotlin-jupyter\\.gitignore\t\t\t60.00 B\n",
      "E:\\Tools\\kotlin-jupyter\\.gradle\t\t\t136.93 KB\n",
      "E:\\Tools\\kotlin-jupyter\\build\t\t\t19.41 MB\n",
      "E:\\Tools\\kotlin-jupyter\\build.gradle\t\t\t3.42 KB\n",
      "E:\\Tools\\kotlin-jupyter\\gradle\t\t\t53.88 KB\n",
      "E:\\Tools\\kotlin-jupyter\\gradlew\t\t\t5.14 KB\n",
      "E:\\Tools\\kotlin-jupyter\\gradlew.bat\t\t\t2.40 KB\n",
      "E:\\Tools\\kotlin-jupyter\\jupyter-lib\t\t\t24.29 KB\n",
      "E:\\Tools\\kotlin-jupyter\\kernelspec\t\t\t158.00 B\n",
      "E:\\Tools\\kotlin-jupyter\\LICENSE\t\t\t11.53 KB\n",
      "E:\\Tools\\kotlin-jupyter\\readme.md\t\t\t3.04 KB\n",
      "E:\\Tools\\kotlin-jupyter\\samples\t\t\t987.77 KB\n",
      "E:\\Tools\\kotlin-jupyter\\settings.gradle\t\t\t21.00 B\n",
      "E:\\Tools\\kotlin-jupyter\\src\t\t\t30.81 KB\n",
      "E:\\Tools\\kotlin-jupyter\\testData\t\t\t540.00 B\n",
      "\"\"\"\u001b[39m\n",
      "\n"
     ]
    },
    {
     "data": {
      "text/plain": [
       "\u001b[32mimport \u001b[39m\u001b[36m$ivy.$                           \r\n",
       "\r\n",
       "\u001b[39m\r\n",
       "\u001b[32mimport \u001b[39m\u001b[36mjava.nio.file._\r\n",
       "\u001b[39m\r\n",
       "\u001b[32mimport \u001b[39m\u001b[36mjava.io.File\r\n",
       "\u001b[39m\r\n",
       "\u001b[32mimport \u001b[39m\u001b[36mscala.collection.JavaConverters._\r\n",
       "\u001b[39m\r\n",
       "\u001b[32mimport \u001b[39m\u001b[36mscala.collection._\r\n",
       "\u001b[39m\r\n",
       "\u001b[32mimport \u001b[39m\u001b[36msquants.information._\r\n",
       "\r\n",
       "\u001b[39m\r\n",
       "\u001b[36mconversions\u001b[39m: \u001b[32mList\u001b[39m[\u001b[32mInformationUnit\u001b[39m] = \u001b[33mList\u001b[39m(\n",
       "  squants.information.Yottabytes$@5ae0cc5d,\n",
       "  squants.information.Zettabytes$@2b4db7b3,\n",
       "  squants.information.Exabytes$@432d3fc1,\n",
       "  squants.information.Petabytes$@217f8052,\n",
       "  squants.information.Terabytes$@31a0acd5,\n",
       "  squants.information.Gigabytes$@60517e46,\n",
       "  squants.information.Megabytes$@23f19053,\n",
       "  squants.information.Kilobytes$@7e51f96f,\n",
       "  squants.information.Bytes$@4a232474\n",
       ")\r\n",
       "defined \u001b[32mfunction\u001b[39m \u001b[36mbestUnitFor\u001b[39m\r\n",
       "defined \u001b[32mfunction\u001b[39m \u001b[36mformat\u001b[39m\r\n",
       "defined \u001b[32mfunction\u001b[39m \u001b[36mbytesFormat\u001b[39m\r\n",
       "defined \u001b[32mfunction\u001b[39m \u001b[36mmemoize\u001b[39m\r\n",
       "\u001b[36mamount\u001b[39m: \u001b[32mFile\u001b[39m => \u001b[32mLong\u001b[39m = \u001b[32m<lazy>\u001b[39m\r\n",
       "\u001b[36mdir\u001b[39m: \u001b[32mFile\u001b[39m = E:\\Tools\\kotlin-jupyter\r\n",
       "\u001b[36mdirSpace\u001b[39m: \u001b[32mString\u001b[39m = \u001b[32m\"21.39 MB\"\u001b[39m\r\n",
       "\u001b[36mamounts\u001b[39m: \u001b[32mArray\u001b[39m[\u001b[32mString\u001b[39m] = \u001b[33mArray\u001b[39m(\n",
       "  \u001b[32m\"\"\"\n",
       "E:\\Tools\\kotlin-jupyter\\.git\t\t\t718.27 KB\n",
       "  \"\"\"\u001b[39m,\n",
       "  \u001b[32m\"\"\"\n",
       "E:\\Tools\\kotlin-jupyter\\.gitignore\t\t\t60.00 B\n",
       "  \"\"\"\u001b[39m,\n",
       "  \u001b[32m\"\"\"\n",
       "E:\\Tools\\kotlin-jupyter\\.gradle\t\t\t136.93 KB\n",
       "  \"\"\"\u001b[39m,\n",
       "  \u001b[32m\"\"\"\n",
       "E:\\Tools\\kotlin-jupyter\\build\t\t\t19.41 MB\n",
       "\u001b[33m...\u001b[39m"
      ]
     },
     "execution_count": 10,
     "metadata": {},
     "output_type": "execute_result"
    }
   ],
   "source": [
    "import $ivy.`com.squants::squants:0.6.3`\n",
    "\n",
    "import java.nio.file._\n",
    "import java.io.File\n",
    "import scala.collection.JavaConverters._\n",
    "import scala.collection._\n",
    "import squants.information._\n",
    "\n",
    "val conversions = List(Bytes, Kilobytes, Megabytes, Gigabytes, Terabytes, Petabytes, Exabytes, Zettabytes, Yottabytes).reverse\n",
    "\n",
    "def bestUnitFor(i: Information, minimumUnit: InformationUnit = Bytes): Information = {\n",
    "    val unit = conversions.find { u =>\n",
    "      u == minimumUnit || i.to(u) > 1.0\n",
    "    }.get\n",
    "\n",
    "    val value = i.to(unit)\n",
    "    unit(value)\n",
    "}\n",
    "\n",
    "def format(i: Information): String = {\n",
    "    val b = bestUnitFor(i)\n",
    "    f\"${b.value}%2.2f ${b.unit.symbol}\"\n",
    "}\n",
    "\n",
    "def bytesFormat(l: Long) = format(Bytes(l))\n",
    "\n",
    "\n",
    "def memoize[I, O](f: I => O): I => O = new mutable.HashMap[I, O]() {\n",
    "  override def apply(key: I) = getOrElseUpdate(key, f(key))\n",
    "}\n",
    "\n",
    "lazy val amount: File => Long = memoize {\n",
    "    case d if d.isDirectory => d.listFiles.foldLeft(0L)((acc, f) => acc + amount(f))\n",
    "    case f if f.isFile => f.length\n",
    "}\n",
    "\n",
    "val dir = Paths.get(\"E:\\\\Tools\\\\kotlin-jupyter\").toFile.getAbsoluteFile\n",
    "val dirSpace = bytesFormat(amount(dir))\n",
    "\n",
    "println(s\"Directory $dir used $dirSpace \")\n",
    "val amounts = dir.listFiles\n",
    "    .map(f => (f,amount(f)))\n",
    "    .map{ case(name, amount) => s\"$name\\t\\t\\t${bytesFormat(amount)}\" }\n",
    "\n",
    "show(amounts mkString(\"\\n\"))"
   ]
  },
  {
   "cell_type": "code",
   "execution_count": null,
   "metadata": {
    "collapsed": true
   },
   "outputs": [],
   "source": []
  }
 ],
 "metadata": {
  "kernelspec": {
   "display_name": "Scala",
   "language": "scala",
   "name": "scala"
  },
  "language_info": {
   "codemirror_mode": "text/x-scala",
   "file_extension": ".scala",
   "mimetype": "text/x-scala",
   "name": "scala212",
   "nbconvert_exporter": "script",
   "pygments_lexer": "scala",
   "version": "2.12.1"
  }
 },
 "nbformat": 4,
 "nbformat_minor": 1
}
