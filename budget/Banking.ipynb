{
 "cells": [
  {
   "cell_type": "code",
   "execution_count": 1,
   "metadata": {
    "autoscroll": "json-false",
    "collapsed": false,
    "ein.tags": [
     "worksheet-0"
    ],
    "slideshow": {
     "slide_type": "-"
    }
   },
   "outputs": [
    {
     "data": {
      "text/plain": [
       "\u001b[32mimport \u001b[39m\u001b[36m$ivy.$                          \u001b[39m"
      ]
     },
     "execution_count": 1,
     "metadata": {},
     "output_type": "execute_result"
    }
   ],
   "source": [
    "import $ivy.`org.typelevel::cats:0.9.0`"
   ]
  },
  {
   "cell_type": "markdown",
   "metadata": {
    "ein.tags": [
     "worksheet-0"
    ],
    "slideshow": {
     "slide_type": "-"
    }
   },
   "source": [
    "# Daily Processing\n",
    "* [Download Updates to Account](#(Download-Updates-to-Account)\n",
    "    * [Download OFX Statement from Bank](#Download-OFX-Statement-from-Bank)\n",
    "    * [Remove Existing Transactions](#Remove-Existing-Transactions)\n",
    "    * [Update Transactions with Payee](#Update-Transactions-with-Payee)\n",
    "    * [Update Database](#Update-Database)\n",
    "* [Mark Budget Item Paid](#Mark-Budget-Item-Paid)\n",
    "* [Generate Budget Report](#Generate-Budget-Report)\n",
    "* [Send Notification](#Send-Notification)\n",
    "\n",
    "\n",
    "## Download Updates to Account\n",
    "---\n",
    "### Download OFX Statement from Bank\n",
    "- Get bank ofxid, ofxurl, ofxapp, ofxappversion from Banks\n",
    "- Download OFX statement using ofx4j\n",
    "- Extract Balance and Transactions from OFX Statement\n",
    "    - Balance Information\n",
    "    - As of Date\n",
    "    - Current Balance\n",
    "- List of Transactions (since last update?)\n",
    "- Update Account table with Balance Information"
   ]
  },
  {
   "cell_type": "code",
   "execution_count": 2,
   "metadata": {
    "autoscroll": "json-false",
    "collapsed": false,
    "ein.tags": [
     "worksheet-0"
    ],
    "slideshow": {
     "slide_type": "-"
    }
   },
   "outputs": [
    {
     "data": {
      "text/plain": [
       "\u001b[32mimport \u001b[39m\u001b[36mcats.free.Free\n\u001b[39m\n\u001b[32mimport \u001b[39m\u001b[36mcats.free.Free.liftF\n\n\u001b[39m\ndefined \u001b[32mclass\u001b[39m \u001b[36mBalance\u001b[39m\ndefined \u001b[32mclass\u001b[39m \u001b[36mAccount\u001b[39m\ndefined \u001b[32mclass\u001b[39m \u001b[36mPayee\u001b[39m\ndefined \u001b[32mclass\u001b[39m \u001b[36mTransaction\u001b[39m\ndefined \u001b[32mclass\u001b[39m \u001b[36mAccountUpdate\u001b[39m\ndefined \u001b[32mtrait\u001b[39m \u001b[36mCommand\u001b[39m\ndefined \u001b[32mclass\u001b[39m \u001b[36mDownloadUpdate\u001b[39m\ndefined \u001b[32mclass\u001b[39m \u001b[36mMergeTransactions\u001b[39m\ndefined \u001b[32mclass\u001b[39m \u001b[36mUpdateBalance\u001b[39m"
      ]
     },
     "execution_count": 2,
     "metadata": {},
     "output_type": "execute_result"
    }
   ],
   "source": [
    "import cats.free.Free\n",
    "import cats.free.Free.liftF\n",
    "\n",
    "case class Balance(asOf: java.util.Date, balance: Double)\n",
    "case class Account(id: Long, name: String, currentBalance: Balance)\n",
    "case class Payee(name: String, parent: Option[Payee] = None)\n",
    "case class Transaction(id: Long, account: Account, posted: java.util.Date, name: String, amount: Double)\n",
    "case class AccountUpdate(account: Account, balance: Balance, transactions: List[Transaction])\n",
    "\n",
    "sealed trait Command[T]\n",
    "case class DownloadUpdate(acct: Account) extends Command[AccountUpdate]\n",
    "case class MergeTransactions(txns: List[Transaction]) extends Command[Unit]\n",
    "case class UpdateBalance(acct: Account, balance: Balance) extends Command[Unit]\n"
   ]
  },
  {
   "cell_type": "markdown",
   "metadata": {
    "ein.tags": [
     "worksheet-0"
    ],
    "slideshow": {
     "slide_type": "-"
    }
   },
   "source": [
    "### Remove Existing Transactions\n",
    "- Get existing transactions based on account id and fitid\n",
    "- Remove these transactions from list of transactions\n",
    "- Insert newly created Transactions"
   ]
  },
  {
   "cell_type": "markdown",
   "metadata": {
    "ein.tags": [
     "worksheet-0"
    ],
    "slideshow": {
     "slide_type": "-"
    }
   },
   "source": [
    "### Update Transactions with Payee\n",
    "- Use transaction name to match payee aliases from database\n",
    "- Add Payee and Payee Alias for any missing name -> alias pair\n",
    "- Update Transaction with payee id"
   ]
  },
  {
   "cell_type": "code",
   "execution_count": 4,
   "metadata": {
    "autoscroll": "json-false",
    "collapsed": false,
    "ein.tags": [
     "worksheet-0"
    ],
    "slideshow": {
     "slide_type": "-"
    }
   },
   "outputs": [
    {
     "data": {
      "text/plain": [
       "\u001b[32mimport \u001b[39m\u001b[36mcats.arrow.FunctionK\n\u001b[39m\n\u001b[32mimport \u001b[39m\u001b[36mcats.{Id, ~>}\n\n\u001b[39m\ndefined \u001b[32mtype\u001b[39m \u001b[36mFreeCommand\u001b[39m\ndefined \u001b[32mfunction\u001b[39m \u001b[36mdownloadUpdate\u001b[39m\ndefined \u001b[32mfunction\u001b[39m \u001b[36mmergeTransactions\u001b[39m\ndefined \u001b[32mfunction\u001b[39m \u001b[36mupdateBalance\u001b[39m\ndefined \u001b[32mfunction\u001b[39m \u001b[36mprogram\u001b[39m\ndefined \u001b[32mfunction\u001b[39m \u001b[36mcompiler\u001b[39m\n\u001b[36macct\u001b[39m: \u001b[32mAccount\u001b[39m = Account(0,test,Balance(Tue Apr 04 07:14:50 EDT 2017,0.0))\n\u001b[36mresult\u001b[39m: \u001b[32mId\u001b[39m[\u001b[32mAccountUpdate\u001b[39m] = AccountUpdate(Account(0,test,Balance(Tue Apr 04 07:14:50 EDT 2017,0.0)),Balance(Tue Apr 04 07:14:50 EDT 2017,0.9),List())"
      ]
     },
     "execution_count": 4,
     "metadata": {},
     "output_type": "execute_result"
    },
    {
     "name": "stdout",
     "output_type": "stream",
     "text": [
      "Downloading account update for Account(0,test,Balance(Tue Apr 04 07:14:50 EDT 2017,0.0))\n",
      "Merge transactions: List()\n",
      "Update balance for Account(0,test,Balance(Tue Apr 04 07:14:50 EDT 2017,0.0)) = Balance(Tue Apr 04 07:14:50 EDT 2017,0.9)\n"
     ]
    }
   ],
   "source": [
    "import cats.arrow.FunctionK\n",
    "import cats.{Id, ~>}\n",
    "\n",
    "type FreeCommand[T] = Free[Command, T]\n",
    "\n",
    "def downloadUpdate(acct: Account): FreeCommand[AccountUpdate] =\n",
    "  liftF[Command, AccountUpdate](DownloadUpdate(acct))\n",
    "\n",
    "def mergeTransactions(txn: List[Transaction]): FreeCommand[Unit] =\n",
    "  liftF[Command, Unit](MergeTransactions(txn))\n",
    "\n",
    "def updateBalance(acct: Account, balance: Balance): FreeCommand[Unit] =\n",
    "  liftF[Command, Unit](UpdateBalance(acct, balance))\n",
    "\n",
    "def program(account: Account): FreeCommand[AccountUpdate] = for {\n",
    "  dl <- downloadUpdate(account)\n",
    "  _ <- mergeTransactions(dl.transactions)\n",
    "  _ <- updateBalance(account, dl.balance)\n",
    "  } yield dl\n",
    "\n",
    "def compiler: Command ~> Id = new (Command ~> Id) {\n",
    "  def apply[A](fa: Command[A]): Id[A] = fa match {\n",
    "  case DownloadUpdate(acct) =>\n",
    "    println(s\"Downloading account update for $acct\")\n",
    "    AccountUpdate(acct, Balance(new java.util.Date(), 0.9), List())\n",
    "  case MergeTransactions(txns) =>\n",
    "    println(s\"Merge transactions: $txns\")\n",
    "    ()\n",
    "  case UpdateBalance(acct, balance) =>\n",
    "    println(s\"Update balance for $acct = $balance\")\n",
    "    ()\n",
    "  }\n",
    "}\n",
    "\n",
    "val acct = Account(0l, \"test\", Balance(new java.util.Date(), 0.0))\n",
    "val result = program(acct).foldMap(compiler)\n"
   ]
  },
  {
   "cell_type": "markdown",
   "metadata": {
    "ein.tags": [
     "worksheet-0"
    ],
    "slideshow": {
     "slide_type": "-"
    }
   },
   "source": [
    "## Mark Budget Item Paid\n",
    "---\n",
    "- Get unpaid budget items for period, usually EOM\n",
    "    - Create data range around item's due date (+/- 7 days)\n",
    "    - Find first transaction in range\n",
    "    - Update item as paid\n",
    "\n",
    "## Generate Budget Report\n",
    "---\n",
    "\n",
    "## Send Notification\n",
    "---"
   ]
  }
 ],
 "metadata": {
  "kernelspec": {
   "display_name": "Scala-2.12",
   "name": "scala"
  },
  "language_info": {
   "codemirror_mode": "text/x-scala",
   "file_extension": ".scala",
   "mimetype": "text/x-scala",
   "name": "scala212",
   "nbconvert_exporter": "script",
   "pygments_lexer": "scala",
   "version": "2.12.1"
  },
  "name": "Banking.ipynb"
 },
 "nbformat": 4,
 "nbformat_minor": 1
}
